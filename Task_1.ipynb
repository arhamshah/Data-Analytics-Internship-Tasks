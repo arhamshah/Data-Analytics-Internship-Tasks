{
  "nbformat": 4,
  "nbformat_minor": 0,
  "metadata": {
    "colab": {
      "name": "Task_1.ipynb",
      "provenance": [],
      "authorship_tag": "ABX9TyPY4U9y6sEmSd+ZA1A5W/bF"
    },
    "kernelspec": {
      "name": "python3",
      "display_name": "Python 3"
    },
    "language_info": {
      "name": "python"
    }
  },
  "cells": [
    {
      "cell_type": "markdown",
      "metadata": {
        "id": "JqYI2p5CA0Ly"
      },
      "source": [
        "# Importing Libraries & Reading Data [Arham Shah]"
      ]
    },
    {
      "cell_type": "code",
      "metadata": {
        "id": "ZldOuvd9AGqB"
      },
      "source": [
        "import pandas as pd\n",
        "import numpy as np\n",
        "import matplotlib.pyplot as plt"
      ],
      "execution_count": null,
      "outputs": []
    },
    {
      "cell_type": "code",
      "metadata": {
        "colab": {
          "base_uri": "https://localhost:8080/",
          "height": 360
        },
        "id": "jTBIN2lMBI6L",
        "outputId": "cf4c2744-049b-4af9-eac4-982e6860f0c5"
      },
      "source": [
        "df = pd.read_csv(\"http://bit.ly/w-data\")\n",
        "print(\"Imported Data is\")\n",
        "df.head(10)"
      ],
      "execution_count": null,
      "outputs": [
        {
          "output_type": "stream",
          "text": [
            "Imported Data is\n"
          ],
          "name": "stdout"
        },
        {
          "output_type": "execute_result",
          "data": {
            "text/html": [
              "<div>\n",
              "<style scoped>\n",
              "    .dataframe tbody tr th:only-of-type {\n",
              "        vertical-align: middle;\n",
              "    }\n",
              "\n",
              "    .dataframe tbody tr th {\n",
              "        vertical-align: top;\n",
              "    }\n",
              "\n",
              "    .dataframe thead th {\n",
              "        text-align: right;\n",
              "    }\n",
              "</style>\n",
              "<table border=\"1\" class=\"dataframe\">\n",
              "  <thead>\n",
              "    <tr style=\"text-align: right;\">\n",
              "      <th></th>\n",
              "      <th>Hours</th>\n",
              "      <th>Scores</th>\n",
              "    </tr>\n",
              "  </thead>\n",
              "  <tbody>\n",
              "    <tr>\n",
              "      <th>0</th>\n",
              "      <td>2.5</td>\n",
              "      <td>21</td>\n",
              "    </tr>\n",
              "    <tr>\n",
              "      <th>1</th>\n",
              "      <td>5.1</td>\n",
              "      <td>47</td>\n",
              "    </tr>\n",
              "    <tr>\n",
              "      <th>2</th>\n",
              "      <td>3.2</td>\n",
              "      <td>27</td>\n",
              "    </tr>\n",
              "    <tr>\n",
              "      <th>3</th>\n",
              "      <td>8.5</td>\n",
              "      <td>75</td>\n",
              "    </tr>\n",
              "    <tr>\n",
              "      <th>4</th>\n",
              "      <td>3.5</td>\n",
              "      <td>30</td>\n",
              "    </tr>\n",
              "    <tr>\n",
              "      <th>5</th>\n",
              "      <td>1.5</td>\n",
              "      <td>20</td>\n",
              "    </tr>\n",
              "    <tr>\n",
              "      <th>6</th>\n",
              "      <td>9.2</td>\n",
              "      <td>88</td>\n",
              "    </tr>\n",
              "    <tr>\n",
              "      <th>7</th>\n",
              "      <td>5.5</td>\n",
              "      <td>60</td>\n",
              "    </tr>\n",
              "    <tr>\n",
              "      <th>8</th>\n",
              "      <td>8.3</td>\n",
              "      <td>81</td>\n",
              "    </tr>\n",
              "    <tr>\n",
              "      <th>9</th>\n",
              "      <td>2.7</td>\n",
              "      <td>25</td>\n",
              "    </tr>\n",
              "  </tbody>\n",
              "</table>\n",
              "</div>"
            ],
            "text/plain": [
              "   Hours  Scores\n",
              "0    2.5      21\n",
              "1    5.1      47\n",
              "2    3.2      27\n",
              "3    8.5      75\n",
              "4    3.5      30\n",
              "5    1.5      20\n",
              "6    9.2      88\n",
              "7    5.5      60\n",
              "8    8.3      81\n",
              "9    2.7      25"
            ]
          },
          "metadata": {
            "tags": []
          },
          "execution_count": 5
        }
      ]
    },
    {
      "cell_type": "markdown",
      "metadata": {
        "id": "XlbYBxm_BjEI"
      },
      "source": [
        "# Visualizing Data to find Patterns"
      ]
    },
    {
      "cell_type": "code",
      "metadata": {
        "colab": {
          "base_uri": "https://localhost:8080/",
          "height": 312
        },
        "id": "K3UHJnSUBg9R",
        "outputId": "0837b942-8c36-4d59-c68e-5f3b02ed5c50"
      },
      "source": [
        "df.plot(x=\"Hours\", y=\"Scores\", style=\"o\")\n",
        "plt.title(\"Hours vs Percentage\")\n",
        "plt.xlabel(\"Hours studied\")\n",
        "plt.ylabel(\"Percentage scored\")"
      ],
      "execution_count": null,
      "outputs": [
        {
          "output_type": "execute_result",
          "data": {
            "text/plain": [
              "Text(0, 0.5, 'Percentage scored')"
            ]
          },
          "metadata": {
            "tags": []
          },
          "execution_count": 14
        },
        {
          "output_type": "display_data",
          "data": {
            "image/png": "[encoded data removed]",
            "text/plain": [
              "<Figure size 432x288 with 1 Axes>"
            ]
          },
          "metadata": {
            "tags": [],
            "needs_background": "light"
          }
        }
      ]
    },
    {
      "cell_type": "markdown",
      "metadata": {
        "id": "ls6Dx0qcGMD8"
      },
      "source": [
        "# Preparing Data"
      ]
    },
    {
      "cell_type": "code",
      "metadata": {
        "id": "6W48Gc4lGOcX"
      },
      "source": [
        "X = df.iloc[:,:-1].values\n",
        "y = df.iloc[:,1].values"
      ],
      "execution_count": null,
      "outputs": []
    },
    {
      "cell_type": "markdown",
      "metadata": {
        "id": "x4MdkqjZFxYW"
      },
      "source": [
        "# Training Data"
      ]
    },
    {
      "cell_type": "code",
      "metadata": {
        "id": "UqkSplUyGgYD"
      },
      "source": [
        "from sklearn.model_selection import train_test_split\n",
        "X_train, X_test, y_train, y_test = train_test_split(X,y, test_size=0.3, random_state=0)"
      ],
      "execution_count": null,
      "outputs": []
    },
    {
      "cell_type": "code",
      "metadata": {
        "colab": {
          "base_uri": "https://localhost:8080/"
        },
        "id": "kwvWYkWhCYRJ",
        "outputId": "a9fa91bd-5f0d-4f7b-93fc-e286450e34f8"
      },
      "source": [
        "from sklearn.linear_model import LinearRegression\n",
        "regression = LinearRegression()\n",
        "regression.fit(X_train, y_train)"
      ],
      "execution_count": null,
      "outputs": [
        {
          "output_type": "execute_result",
          "data": {
            "text/plain": [
              "LinearRegression(copy_X=True, fit_intercept=True, n_jobs=None, normalize=False)"
            ]
          },
          "metadata": {
            "tags": []
          },
          "execution_count": 22
        }
      ]
    },
    {
      "cell_type": "markdown",
      "metadata": {
        "id": "zOgDKGSDHijp"
      },
      "source": [
        "# Visualizing Regression Line"
      ]
    },
    {
      "cell_type": "code",
      "metadata": {
        "colab": {
          "base_uri": "https://localhost:8080/",
          "height": 282
        },
        "id": "N6pQyDNZHh5m",
        "outputId": "4d8aaef2-4d91-4708-bcbb-414434578299"
      },
      "source": [
        "line = regression.coef_*X+regression.intercept_\n",
        "\n",
        "plt.scatter(X,y)\n",
        "plt.plot(X, line)"
      ],
      "execution_count": null,
      "outputs": [
        {
          "output_type": "execute_result",
          "data": {
            "text/plain": [
              "[<matplotlib.lines.Line2D at 0x7f6a2a846710>]"
            ]
          },
          "metadata": {
            "tags": []
          },
          "execution_count": 23
        },
        {
          "output_type": "display_data",
          "data": {
            "image/png": "[encoded data removed]",
            "text/plain": [
              "<Figure size 432x288 with 1 Axes>"
            ]
          },
          "metadata": {
            "tags": [],
            "needs_background": "light"
          }
        }
      ]
    },
    {
      "cell_type": "markdown",
      "metadata": {
        "id": "iwtol6qNIbKB"
      },
      "source": [
        "# Predicting"
      ]
    },
    {
      "cell_type": "code",
      "metadata": {
        "colab": {
          "base_uri": "https://localhost:8080/"
        },
        "id": "sFh4JJakLZxq",
        "outputId": "e3da6dd4-fbfb-4721-ded5-5fb72c31d7c8"
      },
      "source": [
        "y_pred = regression.predict(X_test)\n",
        "print(\"Predicted Values of X, Y\")\n",
        "for i in range(len(X_test)):\n",
        "  print(X_test[i],y_pred[i])"
      ],
      "execution_count": 51,
      "outputs": [
        {
          "output_type": "stream",
          "text": [
            "Predicted Values of X, Y\n",
            "[1.5] 17.053665412465456\n",
            "[3.2] 33.69422877993883\n",
            "[7.4] 74.80620886428483\n",
            "[2.5] 26.8422320992145\n",
            "[5.9] 60.12335883416125\n",
            "[3.8] 39.56736879198826\n",
            "[1.9] 20.969092087165073\n",
            "[7.8] 78.72163553898443\n"
          ],
          "name": "stdout"
        }
      ]
    },
    {
      "cell_type": "markdown",
      "metadata": {
        "id": "h7KlV995PW6o"
      },
      "source": [
        "# Evaluating Model"
      ]
    },
    {
      "cell_type": "code",
      "metadata": {
        "colab": {
          "base_uri": "https://localhost:8080/"
        },
        "id": "BAmKuTK5PAbo",
        "outputId": "f3b0c396-af32-460c-9dd6-f0dca1a65eac"
      },
      "source": [
        "from sklearn import metrics\n",
        "print(\"Mean Absolute Error:\",metrics.mean_absolute_error(y_test,y_pred))"
      ],
      "execution_count": 52,
      "outputs": [
        {
          "output_type": "stream",
          "text": [
            "Mean Absolute Error: 4.419727808027651\n"
          ],
          "name": "stdout"
        }
      ]
    }
  ]
}
